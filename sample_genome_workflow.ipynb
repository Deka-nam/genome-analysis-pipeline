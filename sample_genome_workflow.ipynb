{
 "cells": [
  {
   "cell_type": "markdown",
   "id": "a44c97ab",
   "metadata": {},
   "source": [
    "# 🧬 Sample Workflow: Genome Analysis for One Isolate\n",
    "This notebook demonstrates a typical analysis workflow for a single clinical isolate of *Proteus mirabilis*, starting from raw paired-end FASTQ files.\n",
    "\n",
    "**Steps Covered:**\n",
    "- Genome assembly using SPAdes\n",
    "- Genome annotation with Prokka\n",
    "- MLST typing\n",
    "- AMR detection with AMRFinderPlus\n",
    "- Summary outputs and visual preview\n",
    "\n",
    "*Note: Replace filenames with your actual sample file names.*"
   ]
  },
  {
   "cell_type": "code",
   "execution_count": null,
   "id": "3bc51248",
   "metadata": {},
   "outputs": [],
   "source": [
    "# Set file paths\n",
    "sample_id = \"isolate01\"\n",
    "read1 = \"data/isolate01_R1.fastq.gz\"\n",
    "read2 = \"data/isolate01_R2.fastq.gz\"\n",
    "assembly_dir = f\"assembly/{sample_id}\"\n",
    "annotation_dir = f\"annotation/{sample_id}\"\n"
   ]
  },
  {
   "cell_type": "code",
   "execution_count": null,
   "id": "9eabe6d0",
   "metadata": {},
   "outputs": [],
   "source": [
    "# 1. Run SPAdes for genome assembly\n",
    "!spades.py -1 {read1} -2 {read2} -o {assembly_dir}"
   ]
  },
  {
   "cell_type": "code",
   "execution_count": null,
   "id": "5b01ce18",
   "metadata": {},
   "outputs": [],
   "source": [
    "# 2. Annotate the genome using Prokka\n",
    "!prokka --outdir {annotation_dir} --prefix {sample_id} {assembly_dir}/contigs.fasta"
   ]
  },
  {
   "cell_type": "code",
   "execution_count": null,
   "id": "982edd4f",
   "metadata": {},
   "outputs": [],
   "source": [
    "# 3. Run MLST typing\n",
    "!mlst {assembly_dir}/contigs.fasta"
   ]
  },
  {
   "cell_type": "code",
   "execution_count": null,
   "id": "1623ef32",
   "metadata": {},
   "outputs": [],
   "source": [
    "# 4. Detect AMR genes with AMRFinderPlus\n",
    "!amrfinder -n {assembly_dir}/contigs.fasta -o amr/{sample_id}_amrfinder.tsv --organism Proteus_mirabilis"
   ]
  },
  {
   "cell_type": "code",
   "execution_count": null,
   "id": "2ebde462",
   "metadata": {},
   "outputs": [],
   "source": [
    "# 5. Load and preview AMRFinderPlus results\n",
    "import pandas as pd\n",
    "amr_df = pd.read_csv(f\"amr/{sample_id}_amrfinder.tsv\", sep='\\t')\n",
    "amr_df.head()"
   ]
  }
 ],
 "metadata": {},
 "nbformat": 4,
 "nbformat_minor": 5
}