{
 "cells": [
  {
   "cell_type": "markdown",
   "id": "28064ee3",
   "metadata": {},
   "source": [
    "# 🧬 End-to-End Workflow: Genome Analysis for One Isolate\n",
    "This notebook runs a complete analysis pipeline on a single clinical isolate of *Proteus mirabilis*, from raw FASTQ reads to AMR gene prediction.\n",
    "\n",
    "Make sure to activate your Conda environment (`proteus_env`) before launching this notebook.\n"
   ]
  },
  {
   "cell_type": "code",
   "execution_count": null,
   "id": "8b75f4d8",
   "metadata": {},
   "outputs": [],
   "source": [
    "# 🔧 Step 1: Define file paths and sample ID\n",
    "import os\n",
    "\n",
    "sample_id = \"isolate01\"\n",
    "read1 = f\"data/{sample_id}_R1.fastq.gz\"\n",
    "read2 = f\"data/{sample_id}_R2.fastq.gz\"\n",
    "assembly_dir = f\"assembly/{sample_id}\"\n",
    "annotation_dir = f\"annotation/{sample_id}\"\n",
    "amr_output = f\"amr/{sample_id}_amrfinder.tsv\"\n",
    "\n",
    "# Create necessary output directories\n",
    "os.makedirs(assembly_dir, exist_ok=True)\n",
    "os.makedirs(annotation_dir, exist_ok=True)\n",
    "os.makedirs(\"amr\", exist_ok=True)"
   ]
  },
  {
   "cell_type": "code",
   "execution_count": null,
   "id": "535f2cdc",
   "metadata": {},
   "outputs": [],
   "source": [
    "# 🧬 Step 2: Run SPAdes for genome assembly\n",
    "%%bash\n",
    "spades.py -1 data/isolate01_R1.fastq.gz -2 data/isolate01_R2.fastq.gz -o assembly/isolate01"
   ]
  },
  {
   "cell_type": "code",
   "execution_count": null,
   "id": "a3616505",
   "metadata": {},
   "outputs": [],
   "source": [
    "# 🧬 Step 3: Annotate genome using Prokka\n",
    "%%bash\n",
    "prokka --outdir annotation/isolate01 --prefix isolate01 assembly/isolate01/contigs.fasta"
   ]
  },
  {
   "cell_type": "code",
   "execution_count": null,
   "id": "090e24a6",
   "metadata": {},
   "outputs": [],
   "source": [
    "# 🧬 Step 4: Run MLST typing\n",
    "%%bash\n",
    "mlst assembly/isolate01/contigs.fasta"
   ]
  },
  {
   "cell_type": "code",
   "execution_count": null,
   "id": "80ed401f",
   "metadata": {},
   "outputs": [],
   "source": [
    "# 🧬 Step 5: AMR gene detection using AMRFinderPlus\n",
    "%%bash\n",
    "amrfinder -n assembly/isolate01/contigs.fasta -o amr/isolate01_amrfinder.tsv --organism Proteus_mirabilis"
   ]
  },
  {
   "cell_type": "code",
   "execution_count": null,
   "id": "1490c59b",
   "metadata": {},
   "outputs": [],
   "source": [
    "# 📊 Step 6: Preview AMR gene output\n",
    "import pandas as pd\n",
    "amr_df = pd.read_csv(\"amr/isolate01_amrfinder.tsv\", sep='\\t')\n",
    "amr_df.head()"
   ]
  }
 ],
 "metadata": {},
 "nbformat": 4,
 "nbformat_minor": 5
}