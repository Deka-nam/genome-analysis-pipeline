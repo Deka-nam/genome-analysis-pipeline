{
 "cells": [
  {
   "cell_type": "markdown",
   "id": "1fba971b",
   "metadata": {},
   "source": [
    "# 🔬 AMR Heatmap from Mock Data\n",
    "This cell loads the example AMRFinderPlus result and creates a heatmap of detected AMR genes."
   ]
  },
  {
   "cell_type": "code",
   "execution_count": null,
   "id": "f197d7d8",
   "metadata": {},
   "outputs": [],
   "source": [
    "import pandas as pd\n",
    "import seaborn as sns\n",
    "import matplotlib.pyplot as plt\n",
    "\n",
    "# Load mock AMRFinderPlus results\n",
    "df = pd.read_csv(\"amr/isolate01_amrfinder.tsv\", sep='\\t', comment='#')\n",
    "\n",
    "# Pivot into binary matrix (1 = gene present)\n",
    "df['value'] = 1\n",
    "heatmap_df = df.pivot_table(index='gene_symbol', columns='sequence_name', values='value', fill_value=0)\n",
    "\n",
    "# Plot heatmap\n",
    "plt.figure(figsize=(6, 4))\n",
    "sns.heatmap(heatmap_df, cmap='YlGnBu', cbar=False, annot=True, linewidths=0.5)\n",
    "plt.title(\"AMR Gene Presence per Contig\")\n",
    "plt.ylabel(\"AMR Gene\")\n",
    "plt.xlabel(\"Contig\")\n",
    "plt.tight_layout()\n",
    "plt.show()"
   ]
  }
 ],
 "metadata": {},
 "nbformat": 4,
 "nbformat_minor": 5
}